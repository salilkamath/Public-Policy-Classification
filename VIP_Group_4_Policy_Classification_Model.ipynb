{
  "nbformat": 4,
  "nbformat_minor": 0,
  "metadata": {
    "colab": {
      "name": "VIP Group 4 Policy Classification Model",
      "provenance": [],
      "collapsed_sections": []
    },
    "kernelspec": {
      "name": "python3",
      "display_name": "Python 3"
    }
  },
  "cells": [
    {
      "cell_type": "code",
      "metadata": {
        "id": "jZlddF98vGlT"
      },
      "source": [
        "#Upload Dataset to Notebook\n",
        "#Dataset Source: https://covidamp.org/data?type=policy\n",
        "#Dataset Name: CovidAMPDataset.xlsx\n",
        "\n",
        "# from google.colab import files\n",
        "\n",
        "# uploaded = files.upload()"
      ],
      "execution_count": null,
      "outputs": []
    },
    {
      "cell_type": "code",
      "metadata": {
        "id": "xC7t9rGJBYTg",
        "colab": {
          "base_uri": "https://localhost:8080/"
        },
        "outputId": "76b2bb27-4165-493d-b025-ae4e154886f5"
      },
      "source": [
        "# imports for policy classfication model\n",
        "import pandas as pd\n",
        "import numpy as np\n",
        "import matplotlib.pyplot as plt\n",
        "import seaborn as sns\n",
        "\n",
        "import nltk\n",
        "from nltk.corpus import stopwords\n",
        "from nltk.stem import WordNetLemmatizer\n",
        "from nltk.tokenize import RegexpTokenizer\n",
        "nltk.download('stopwords') \n",
        "nltk.download('wordnet')\n",
        "\n",
        "from sklearn.model_selection import train_test_split, cross_val_score, cross_val_predict, GridSearchCV\n",
        "from sklearn.feature_extraction.text import TfidfVectorizer\n",
        "from sklearn.naive_bayes import MultinomialNB\n",
        "from sklearn.metrics import confusion_matrix, accuracy_score, plot_confusion_matrix\n",
        "from sklearn.feature_selection import chi2\n",
        "\n",
        "from sklearn.model_selection import train_test_split, cross_val_score, cross_val_predict, GridSearchCV\n",
        "from sklearn.feature_extraction.text import TfidfVectorizer\n",
        "from sklearn.linear_model import SGDClassifier\n",
        "from sklearn.pipeline import Pipeline\n",
        "from sklearn.metrics import confusion_matrix, accuracy_score"
      ],
      "execution_count": null,
      "outputs": [
        {
          "output_type": "stream",
          "text": [
            "[nltk_data] Downloading package stopwords to /root/nltk_data...\n",
            "[nltk_data]   Unzipping corpora/stopwords.zip.\n",
            "[nltk_data] Downloading package wordnet to /root/nltk_data...\n",
            "[nltk_data]   Unzipping corpora/wordnet.zip.\n"
          ],
          "name": "stdout"
        }
      ]
    },
    {
      "cell_type": "code",
      "metadata": {
        "id": "TMMNkk2zn701",
        "colab": {
          "base_uri": "https://localhost:8080/",
          "height": 221
        },
        "outputId": "9f6910da-6ff1-464a-cc05-3df1770101c0"
      },
      "source": [
        "# Preparing the data\n",
        "# Read data from GitHub\n",
        "df = pd.read_excel(\"https://github.com/carllcox/VIP/blob/fall20group4/CovidAMPDataset.xlsx?raw=true\", sheet_name='Policies', header=6, usecols=\"O,P,R\")\n",
        "\n",
        "# Read uploaded data\n",
        "# data = pd.ExcelFile(\"CovidAMPDataset.xlsx\")\n",
        "# df = data.parse(sheet_name='Policies', header=6, usecols=\"O,P,R\")\n",
        "\n",
        "\n",
        "print('Policy categories:')\n",
        "#for idx, cat in enumerate(set(df[''])):\n",
        "#  print(idx+1, cat)\n",
        "# print('Total number of policy categories: ', len(set(df['Policy category'])))\n",
        "# print('Total number of policy subcategories: ', len(set(df['Policy subcategory'])))\n",
        "\n",
        "df.head(5)\n",
        "\n",
        "#Next Step: Converting to numpy...\n"
      ],
      "execution_count": null,
      "outputs": [
        {
          "output_type": "stream",
          "text": [
            "Policy categories:\n"
          ],
          "name": "stdout"
        },
        {
          "output_type": "execute_result",
          "data": {
            "text/html": [
              "<div>\n",
              "<style scoped>\n",
              "    .dataframe tbody tr th:only-of-type {\n",
              "        vertical-align: middle;\n",
              "    }\n",
              "\n",
              "    .dataframe tbody tr th {\n",
              "        vertical-align: top;\n",
              "    }\n",
              "\n",
              "    .dataframe thead th {\n",
              "        text-align: right;\n",
              "    }\n",
              "</style>\n",
              "<table border=\"1\" class=\"dataframe\">\n",
              "  <thead>\n",
              "    <tr style=\"text-align: right;\">\n",
              "      <th></th>\n",
              "      <th>Policy category</th>\n",
              "      <th>Policy subcategory</th>\n",
              "      <th>Policy description</th>\n",
              "    </tr>\n",
              "  </thead>\n",
              "  <tbody>\n",
              "    <tr>\n",
              "      <th>0</th>\n",
              "      <td>Enabling and relief measures</td>\n",
              "      <td>Other relief measures</td>\n",
              "      <td>The percentage to be applied to the RWA amount...</td>\n",
              "    </tr>\n",
              "    <tr>\n",
              "      <th>1</th>\n",
              "      <td>Enabling and relief measures</td>\n",
              "      <td>Other relief measures</td>\n",
              "      <td>The percentage to be applied to the RWA amount...</td>\n",
              "    </tr>\n",
              "    <tr>\n",
              "      <th>2</th>\n",
              "      <td>Enabling and relief measures</td>\n",
              "      <td>Other relief measures</td>\n",
              "      <td>The percentage to be applied to the RWA amount...</td>\n",
              "    </tr>\n",
              "    <tr>\n",
              "      <th>3</th>\n",
              "      <td>Social distancing</td>\n",
              "      <td>Other forms of social distancing</td>\n",
              "      <td>Public employers (including school districts) ...</td>\n",
              "    </tr>\n",
              "    <tr>\n",
              "      <th>4</th>\n",
              "      <td>Social distancing</td>\n",
              "      <td>Alternative election measures</td>\n",
              "      <td>Polling locations must follow public health me...</td>\n",
              "    </tr>\n",
              "  </tbody>\n",
              "</table>\n",
              "</div>"
            ],
            "text/plain": [
              "                Policy category  ...                                 Policy description\n",
              "0  Enabling and relief measures  ...  The percentage to be applied to the RWA amount...\n",
              "1  Enabling and relief measures  ...  The percentage to be applied to the RWA amount...\n",
              "2  Enabling and relief measures  ...  The percentage to be applied to the RWA amount...\n",
              "3             Social distancing  ...  Public employers (including school districts) ...\n",
              "4             Social distancing  ...  Polling locations must follow public health me...\n",
              "\n",
              "[5 rows x 3 columns]"
            ]
          },
          "metadata": {
            "tags": []
          },
          "execution_count": 3
        }
      ]
    },
    {
      "cell_type": "code",
      "metadata": {
        "id": "3PoOc1VbTafI",
        "colab": {
          "base_uri": "https://localhost:8080/"
        },
        "outputId": "25371e85-8c1e-40b0-bc90-95b903d9e898"
      },
      "source": [
        "# Split data into train and test set; validation done using k-fold cross validation\n",
        "x_train, x_test, y_train, y_test = train_test_split(df['Policy description'], df['Policy category'], test_size=0.2, random_state=123)\n",
        "print(f'Train dimensions: {x_train.shape, y_train.shape}')\n",
        "print(f'Test dimensions: {x_test.shape, y_test.shape}')\n",
        "# Check out target distribution\n",
        "print(y_train.value_counts())\n",
        "print(y_test.value_counts())"
      ],
      "execution_count": null,
      "outputs": [
        {
          "output_type": "stream",
          "text": [
            "Train dimensions: ((12355,), (12355,))\n",
            "Test dimensions: ((3089,), (3089,))\n",
            "Social distancing                                  7610\n",
            "Enabling and relief measures                       1973\n",
            "Support for public health and clinical capacity    1152\n",
            "Emergency declarations                              557\n",
            "Travel restrictions                                 466\n",
            "Authorization and enforcement                       358\n",
            "Contact tracing/Testing                             196\n",
            "Military mobilization                                43\n",
            "Name: Policy category, dtype: int64\n",
            "Social distancing                                  1853\n",
            "Enabling and relief measures                        504\n",
            "Support for public health and clinical capacity     301\n",
            "Emergency declarations                              162\n",
            "Travel restrictions                                 118\n",
            "Authorization and enforcement                        84\n",
            "Contact tracing/Testing                              51\n",
            "Military mobilization                                16\n",
            "Name: Policy category, dtype: int64\n"
          ],
          "name": "stdout"
        }
      ]
    },
    {
      "cell_type": "code",
      "metadata": {
        "id": "2-opHEdxWPb3",
        "colab": {
          "base_uri": "https://localhost:8080/"
        },
        "outputId": "fb6d6c0b-bc5a-4206-e3de-53dc78f1ddfc"
      },
      "source": [
        "# Stephanie Chang\n",
        "# Reference: https://towardsdatascience.com/introduction-to-nlp-part-4-supervised-text-classification-model-in-python-96e9709b4267\n",
        "def preprocess_text(text):\n",
        "    \"\"\"\n",
        "    INPUT:\n",
        "      text - pandas.Series - text to be tokenized (x_train, x_test: policy description)\n",
        "    OUTPUT:\n",
        "      keywords - list - list of tokenized keywords with out stopwords\n",
        "    \"\"\"\n",
        "    # Tokenise words while ignoring punctuation\n",
        "    # (separating a piece of text into smaller units called tokens)\n",
        "    tokeniser = RegexpTokenizer(r'\\w+')\n",
        "    tokens = tokeniser.tokenize(text)\n",
        "    \n",
        "    # Lowercase and lemmatise \n",
        "    lemmatiser = WordNetLemmatizer()\n",
        "    lemmas = [lemmatiser.lemmatize(token.lower(), pos='v') for token in tokens]\n",
        "    \n",
        "    # Remove stop words\n",
        "    keywords= [lemma for lemma in lemmas if lemma not in stopwords.words('english')]\n",
        "    return keywords\n",
        "\n",
        "# Create an instance of TfidfVectorizer\n",
        "vectorizer = TfidfVectorizer(analyzer=preprocess_text)\n",
        "# Fit to the data and transform to feature matrix\n",
        "x_train_tfidf = vectorizer.fit_transform(x_train)\n",
        "x_train_tfidf.shape\n",
        "x_test_tfidf = vectorizer.fit_transform(x_test)\n",
        "x_test_tfidf.shape"
      ],
      "execution_count": null,
      "outputs": [
        {
          "output_type": "execute_result",
          "data": {
            "text/plain": [
              "(3089, 5861)"
            ]
          },
          "metadata": {
            "tags": []
          },
          "execution_count": 5
        }
      ]
    },
    {
      "cell_type": "code",
      "metadata": {
        "id": "uHInoEp6YXDU",
        "colab": {
          "base_uri": "https://localhost:8080/"
        },
        "outputId": "d3e0b05c-b8ef-4ff6-cd5d-a996cfa4337a"
      },
      "source": [
        "# Stephanie Chang\n",
        "# Grid search to determine best hyperparameter\n",
        "from sklearn.model_selection import GridSearchCV\n",
        "from sklearn.metrics import classification_report\n",
        "parameters = {'alpha': [1, 1.5, 2]}\n",
        "# Build Multinomial Naive Bayes Classifier model\n",
        "mnb_clf = MultinomialNB()\n",
        "clf = GridSearchCV(mnb_clf, parameters)\n",
        "clf.fit(x_train_tfidf, y_train)\n",
        "# 5 fold cross validation (using f1 micro-averaged score metric, since our dataset does not have balanced categories)\n",
        "clf_scores = cross_val_score(clf, x_train_tfidf, y_train, cv=5, scoring='f1_micro')\n",
        "print(clf_scores)\n",
        "print(\"Train Accuracy: %0.2f (+/- %0.2f)\" % (clf_scores.mean(), clf_scores.std() * 2))\n",
        "clf_scores = cross_val_score(clf, x_test_tfidf, y_test, cv=5, scoring='f1_micro')\n",
        "print(clf_scores)\n",
        "print(\"Test Accuracy: %0.2f (+/- %0.2f)\" % (clf_scores.mean(), clf_scores.std() * 2))\n",
        "# Predict\n",
        "clf_pred = cross_val_predict(clf, x_test_tfidf, y_test, cv=5)\n",
        "# Evaluate predictions with confusion matrix\n",
        "conf_mat = confusion_matrix(y_test, clf_pred)\n",
        "print(conf_mat)\n",
        "# print classification report \n",
        "print(classification_report(y_test, clf_pred, zero_division=1))\n"
      ],
      "execution_count": null,
      "outputs": [
        {
          "output_type": "stream",
          "text": [
            "[0.78065561 0.78348847 0.78551194 0.78470255 0.78632133]\n",
            "Train Accuracy: 0.78 (+/- 0.00)\n",
            "[0.68608414 0.67152104 0.67961165 0.66990291 0.68233387]\n",
            "Test Accuracy: 0.68 (+/- 0.01)\n",
            "[[   0    0    0   10    0   74    0    0]\n",
            " [   0    0    0    1    0   50    0    0]\n",
            " [   0    0   10    3    0  149    0    0]\n",
            " [   0    0    0  190    0  313    1    0]\n",
            " [   0    0    0    3    0   12    1    0]\n",
            " [   0    0    0    4    0 1849    0    0]\n",
            " [   0    0    0   22    0  237   42    0]\n",
            " [   0    0    0    1    0  114    0    3]]\n",
            "                                                 precision    recall  f1-score   support\n",
            "\n",
            "                  Authorization and enforcement       1.00      0.00      0.00        84\n",
            "                        Contact tracing/Testing       1.00      0.00      0.00        51\n",
            "                         Emergency declarations       1.00      0.06      0.12       162\n",
            "                   Enabling and relief measures       0.81      0.38      0.51       504\n",
            "                          Military mobilization       1.00      0.00      0.00        16\n",
            "                              Social distancing       0.66      1.00      0.80      1853\n",
            "Support for public health and clinical capacity       0.95      0.14      0.24       301\n",
            "                            Travel restrictions       1.00      0.03      0.05       118\n",
            "\n",
            "                                       accuracy                           0.68      3089\n",
            "                                      macro avg       0.93      0.20      0.21      3089\n",
            "                                   weighted avg       0.76      0.68      0.59      3089\n",
            "\n"
          ],
          "name": "stdout"
        }
      ]
    },
    {
      "cell_type": "code",
      "metadata": {
        "id": "Q7C_oKeNTX_2",
        "colab": {
          "base_uri": "https://localhost:8080/"
        },
        "outputId": "687d1e01-3464-4227-d42c-8bb73162b47e"
      },
      "source": [
        "# **** Logistic Regression Model - Peter Feng ****\n",
        "\n",
        "# Quick Links: \n",
        "# https://kavita-ganesan.com/news-classifier-with-logistic-regression-in-python/\n",
        "# https://developers.google.com/machine-learning/crash-course\n",
        "# https://www.debuggex.com/cheatsheet/regex/python\n",
        "# https://github.com/kavgan/nlp-in-practice/blob/master/text-classification/notebooks/Text%20Classification%20with%20Logistic%20Regression.ipynb\n",
        "\n",
        "\n",
        "# Imports\n",
        "from sklearn.linear_model import LogisticRegression\n",
        "from sklearn.feature_extraction.text import CountVectorizer,TfidfVectorizer\n",
        "from sklearn.model_selection import train_test_split\n",
        "import re  #Import regular expression functionality\n",
        "import pandas as pd\n",
        "import logging \n",
        "import numpy as np\n",
        "\n",
        "\n",
        "# **Preparing the Data** \n",
        "\n",
        "\n",
        "# Read Dataset.\n",
        "# Using Categories: Policy category, Policy subcategory, Policy subtarget, Policy description, Data source for policy announcement, and Policy/law name.\n",
        "lrmdf = pd.read_excel(\"https://github.com/carllcox/VIP/blob/fall20group4/CovidAMPDataset.xlsx?raw=true\", sheet_name='Policies', header=6, usecols=\"O,P,Q,R,Y,Z\")\n",
        "\n",
        "\n",
        "\n",
        "#Create tokenized URLs. \n",
        "#Given a character sequence and a defined document unit, tokenization is the task of chopping it up into pieces, called tokens, perhaps at the same time throwing away certain characters, such as punctuation.\n",
        "#Might not end up using urls for training.  Looks like there is too much garbage data.  \n",
        "#print(lrmdf[\"Data source for policy announcement\"])\n",
        "\n",
        "def tokenize_url(url:str):   \n",
        "  if isinstance(url, str): #We can only tokenize strings.\n",
        "    #url=url.replace(\"https://www.huffingtonpost.com/entry/\",\"\")\n",
        "    url=re.sub(\"(https|http|www|com|net|com|org|info|edu|gov|uk|de|ca|jp|fr|au|us|ru|ch|it|nel|se|no|es|mil)+\", \"\", url)\n",
        "    url=re.sub(\"(\\W|_)+\", \" \", url) #Searches(enclosed in parentheses for capturing group) for \\W (a non-word character) or (denoted by |) an underscore(_) one or more times (+).  Replaces them with spaces.\n",
        "    print(url)\n",
        "  return url\n",
        "\n",
        "#lrmdf['tokenized_url']=lrmdf['Data source for policy announcement'].apply(lambda x:tokenize_url(x)) #Lambda function takes in column entry as x and returns a tokenized version of x.  \n",
        "#print(lrmdf[\"Data source for policy announcement\"])\n",
        "\n",
        "\n",
        "#Create field containing just the policy description\n",
        "lrmdf['text_desc'] = lrmdf['Policy description']\n",
        "\n",
        "#Create field containing policy description + policy/law name\n",
        "lrmdf['text_desc_name'] = lrmdf['Policy description'] + ' ' + lrmdf['Policy/law name']\n",
        "\n",
        "#Handle NaN Values\n",
        "lrmdf = lrmdf.dropna()\n",
        "\n",
        "# GET A TRAIN TEST SPLIT (set seed for consistent results)\n",
        "training_data, testing_data = train_test_split(lrmdf,random_state = 2000)\n",
        "\n",
        "# GET LABELS\n",
        "Y_train=training_data['Policy category'].values\n",
        "Y_test=testing_data['Policy category'].values\n",
        "\n",
        "#Feature extraction function\n",
        "def extract_features(df,field,training_data,testing_data,type=\"binary\"):\n",
        "    \"\"\"Extract features using different methods\"\"\"\n",
        "    \n",
        "    logging.info(\"Extracting features and creating vocabulary...\")\n",
        "    \n",
        "    if \"binary\" in type:\n",
        "        \n",
        "        # BINARY FEATURE REPRESENTATION\n",
        "        cv= CountVectorizer(binary=True, max_df=0.95)\n",
        "        cv.fit_transform(training_data[field].values)\n",
        "        \n",
        "        train_feature_set=cv.transform(training_data[field].values)\n",
        "        test_feature_set=cv.transform(testing_data[field].values)\n",
        "        \n",
        "        return train_feature_set,test_feature_set,cv\n",
        "  \n",
        "    elif \"counts\" in type:\n",
        "        \n",
        "        # COUNT BASED FEATURE REPRESENTATION\n",
        "        cv= CountVectorizer(binary=False, max_df=0.95)\n",
        "        cv.fit_transform(training_data[field].values)\n",
        "        \n",
        "        train_feature_set=cv.transform(training_data[field].values)\n",
        "        test_feature_set=cv.transform(testing_data[field].values)\n",
        "        \n",
        "        return train_feature_set,test_feature_set,cv\n",
        "    \n",
        "    else:    \n",
        "        \n",
        "        # TF-IDF BASED FEATURE REPRESENTATION\n",
        "        tfidf_vectorizer=TfidfVectorizer(use_idf=True, max_df=0.95)\n",
        "        tfidf_vectorizer.fit_transform(training_data[field].values)\n",
        "        \n",
        "        train_feature_set=tfidf_vectorizer.transform(training_data[field].values)\n",
        "        test_feature_set=tfidf_vectorizer.transform(testing_data[field].values)\n",
        "        \n",
        "        return train_feature_set,test_feature_set,tfidf_vectorizer\n",
        "\n",
        "\n",
        "# GET FEATURES\n",
        "field = 'text_desc_name'\n",
        "feature_rep = 'binary'\n",
        "top_k = 1 \n",
        "\n",
        "X_train,X_test,feature_transformer=extract_features(lrmdf, field, training_data,testing_data,type=feature_rep)\n",
        "\n",
        "\n",
        "\n",
        "#Define function to get predictions\n",
        "def get_top_k_predictions(model,X_test,k):\n",
        "    \n",
        "  # get probabilities instead of predicted labels, since we want to collect top 3\n",
        "  probs = model.predict_proba(X_test)\n",
        "\n",
        "  # GET TOP K PREDICTIONS BY PROB - note these are just index\n",
        "  best_n = np.argsort(probs, axis=1)[:,-k:]\n",
        "      \n",
        "  # GET CATEGORY OF PREDICTIONS\n",
        "  preds=[[model.classes_[predicted_cat] for predicted_cat in prediction] for prediction in best_n]\n",
        "      \n",
        "  # REVERSE CATEGORIES - DESCENDING ORDER OF IMPORTANCE\n",
        "  preds=[ item[::-1] for item in preds]\n",
        "      \n",
        "  return preds\n",
        "\n",
        "\n",
        "def collect_preds(Y_test,Y_preds):\n",
        "    \"\"\"Collect all predictions and ground truth\"\"\"\n",
        "    \n",
        "    pred_gold_list=[[[Y_test[idx]],pred] for idx,pred in enumerate(Y_preds)]\n",
        "    return pred_gold_list\n",
        "\n",
        "\n",
        "def _reciprocal_rank(true_labels: list, machine_preds: list):\n",
        "    \"\"\"Compute the reciprocal rank at cutoff k\"\"\"\n",
        "    \n",
        "    # add index to list only if machine predicted label exists in true labels\n",
        "    tp_pos_list = [(idx + 1) for idx, r in enumerate(machine_preds) if r in true_labels]\n",
        "\n",
        "    rr = 0\n",
        "    if len(tp_pos_list) > 0:\n",
        "        # for RR we need position of first correct item\n",
        "        first_pos_list = tp_pos_list[0]\n",
        "        \n",
        "        # rr = 1/rank\n",
        "        rr = 1 / float(first_pos_list)\n",
        "\n",
        "    return rr\n",
        "\n",
        "def compute_mrr_at_k(items:list):\n",
        "    \"\"\"Compute the MRR (average RR) at cutoff k\"\"\"\n",
        "    rr_total = 0\n",
        "    \n",
        "    mrr = 0\n",
        "    for item in items:   \n",
        "      rr_at_k = _reciprocal_rank(item[0],item[1])\n",
        "      rr_total = rr_total + rr_at_k\n",
        "      mrr = rr_total / 1/float(len(items))\n",
        "\n",
        "    return mrr\n",
        "\n",
        "def compute_accuracy(eval_items:list):\n",
        "    correct=0\n",
        "    total=0\n",
        "    \n",
        "    for item in eval_items:\n",
        "        true_pred=item[0]\n",
        "        machine_pred=set(item[1])\n",
        "        \n",
        "        for cat in true_pred:\n",
        "            if cat in machine_pred:\n",
        "                correct+=1\n",
        "                break\n",
        "    \n",
        "    \n",
        "    accuracy=correct/float(len(eval_items))\n",
        "    return accuracy\n",
        "\n",
        "\n",
        "# INIT LOGISTIC REGRESSION CLASSIFIER\n",
        "logging.info(\"Training a Logistic Regression Model...\")\n",
        "scikit_log_reg = LogisticRegression(verbose=1, solver='liblinear',random_state=0, C=5, penalty='l2',max_iter=1000)\n",
        "model=scikit_log_reg.fit(X_train,Y_train)\n",
        "\n",
        "\n",
        "# GET TOP K PREDICTIONS\n",
        "preds=get_top_k_predictions(model,X_test,top_k)\n",
        "    \n",
        "# GET PREDICTED VALUES AND GROUND TRUTH INTO A LIST OF LISTS\n",
        "eval_items=collect_preds(Y_test,preds)\n",
        "    \n",
        "# GET EVALUATION NUMBERS ON TEST SET -- HOW DID WE DO?\n",
        "logging.info(\"Starting evaluation...\")\n",
        "accuracy=compute_accuracy(eval_items)\n",
        "mrr_at_k=compute_mrr_at_k(eval_items)\n",
        "\n",
        "\n",
        "#MRR = accuracy if k=1 otherwise, accuracy just returns binary values if the correct answer was predicted regardless or order, while MRR is lower because it \"deducts\" for not computing the correct answer in the first try.\n",
        "print(\"Accuracy:\", accuracy, \" Mean Reciprocal Rank with {0} predictions: \".format(top_k), mrr_at_k, \"\\n\")\n",
        "\n",
        "\n",
        "#Mean Reciprocal Rank https://en.wikipedia.org/wiki/Mean_reciprocal_rank\n",
        "#This is a way of accounting for the possibility of multiple \"correct\" responses by generating a list of ranked predicted categories and taking into account where in the list the correct response is.  \n",
        "\n",
        "#    (1/|Q|)*Sum(i=1 to Q, 1/Ranki).    i is the current training entry being predicted, Q is the total of training entries, Ranki is the \"Rank\" of the correct response in the results for this training entry i.  \n",
        "\n",
        "#Formula finds the mean of the reciprocal ranks.  Rank is the position of the correct response in a list of multiple predicted categories. Since the formula is the mean of 1/Rank, or the reciprocal of the rank,\n",
        "#if the correct response is in the first position, the reciprocal rank is 1/Rank = 1/1 = 1, if the correct response is in the 2nd position, the reciprocal rank is 1/Rank = 1/2, etc.  \n",
        "#Therefore, the greater the mean reciprocal rank, the more accurate the model.  \n",
        "\n",
        "#I assume the formula uses the reciprocal rank, not the rank, to set the bounds to be from 0 to 1.  \n",
        "\n",
        "\n",
        "#Todo: lemmatise data\n",
        "\n",
        "\n",
        "\n",
        "\n",
        "\n",
        "\n",
        "\n",
        "#Test the model! \n",
        "\n",
        "#https://cortlandvoice.com/2020/10/28/suny-adopts-system-wide-policy-requiring-all-on-campus-students-to-test-negative-for-covid-19-prior-to-thanksgiving-break/\n",
        "\n",
        "test_features=feature_transformer.transform([\"\"\"As colleges and universities prepare to wind down in-person classes and activities ahead of Thanksgiving, \n",
        "State University of New York Chancellor Jim Malatras announced that SUNY has adopted a policy mandating all students using on-campus facilities in \n",
        "any capacity test negative for COVID-19 within the 10 days prior to leaving campus. Campuses must develop schedules that conduct the test as close to a student's \n",
        "departure date as possible. That means SUNY's 64 colleges and universities will test about 140,000 students over a 10-day period preceding Thanksgiving break. \n",
        "With COVID-19 cases reaching record highs nationwide, this testing requirement will help prevent community spread as students return to their hometowns. Colleges \n",
        "and universities must submit a plan to test all of their on-campus students within that 10-day window no later than November 5.\"\"\"])\n",
        "\n",
        "#Print all possible labels:\n",
        "def unique(list1): \n",
        "      \n",
        "    # insert the list to the set \n",
        "    list_set = set(list1) \n",
        "    # convert the set to the list \n",
        "    unique_list = (list(list_set)) \n",
        "    return unique_list\n",
        "\n",
        "#Print all possible categories:\n",
        "print(*unique(Y_train), sep=\"\\n\")\n",
        "\n",
        "print(get_top_k_predictions(model,test_features,2))\n",
        "\n",
        "\n"
      ],
      "execution_count": null,
      "outputs": [
        {
          "output_type": "stream",
          "text": [
            "[LibLinear]Accuracy: 0.9076354679802956  Mean Reciprocal Rank with 1 predictions:  0.9076354679802956 \n",
            "\n",
            "Emergency declarations\n",
            "Military mobilization\n",
            "Travel restrictions\n",
            "Contact tracing/Testing\n",
            "Social distancing\n",
            "Enabling and relief measures\n",
            "Support for public health and clinical capacity\n",
            "Authorization and enforcement\n",
            "[['Social distancing', 'Contact tracing/Testing']]\n"
          ],
          "name": "stdout"
        }
      ]
    },
    {
      "cell_type": "code",
      "metadata": {
        "id": "VSPKLnNFnTej",
        "colab": {
          "base_uri": "https://localhost:8080/"
        },
        "outputId": "b4e6969b-9d9a-4321-e8b4-f76cdcc7e926"
      },
      "source": [
        "policy1 = \"\"\"use some tax dollars to fund vaccine research\"\"\"\n",
        "policy2 = \"\"\"Develop a virus that causes the exact opposite symtoms of coronavirus so that anyone who is infected doesn’t get affected.\"\"\"\n",
        "policy3 = \"\"\"If you have covid, wear a sombrero of sufficient size to be seen so people will know not to get under the sombrero. 6’ sombrero?\"\"\"\n",
        "policy4 = \"\"\"Generate interesting zoom games for kids to stay entertained at Thanksgiving without their relatives visiting\"\"\"\n",
        "\n",
        "listofpolicies = [policy1, policy2, policy3, policy4]\n",
        "\n",
        "for policy in listofpolicies:\n",
        "  print(policy)\n",
        "  print(get_top_k_predictions(model, feature_transformer.transform([policy]), 2))\n"
      ],
      "execution_count": null,
      "outputs": [
        {
          "output_type": "stream",
          "text": [
            "use some tax dollars to fund vaccine research\n",
            "[['Enabling and relief measures', 'Social distancing']]\n",
            "Develop a virus that causes the exact opposite symtoms of coronavirus so that anyone who is infected doesn’t get affected.\n",
            "[['Enabling and relief measures', 'Social distancing']]\n",
            "If you have covid, wear a sombrero of sufficient size to be seen so people will know not to get under the sombrero. 6’ sombrero?\n",
            "[['Social distancing', 'Support for public health and clinical capacity']]\n",
            "Generate interesting zoom games for kids to stay entertained at Thanksgiving without their relatives visiting\n",
            "[['Social distancing', 'Support for public health and clinical capacity']]\n"
          ],
          "name": "stdout"
        }
      ]
    },
    {
      "cell_type": "code",
      "metadata": {
        "id": "X2gUzuUiFMwP"
      },
      "source": [
        "\n",
        "# Salil Kamath\n",
        "# Random Forest\n",
        "\n",
        "# Imports\n",
        "from sklearn.ensemble import RandomForestClassifier\n",
        "from sklearn.feature_extraction.text import CountVectorizer\n",
        "from nltk.stem.porter import PorterStemmer\n",
        "import regex as re\n",
        "\n",
        "# Import data\n",
        "data = pd.read_excel(\"https://github.com/carllcox/VIP/blob/fall20group4/CovidAMPDataset.xlsx?raw=true\", sheet_name='Policies', header=6, usecols=\"O,R\")\n",
        "\n",
        "\n",
        "# Source https://towardsdatascience.com/build-and-compare-3-models-nlp-sentiment-prediction-67320979de61\n",
        "# Process the text\n",
        "corpus = []\n",
        "def processData(policy):\n",
        "  # Removes everything except letters from the policy\n",
        "  policy = re.sub('^a-zA-Z', ' ', policy)\n",
        "  # Makes the policy lowercase and splits it into array\n",
        "  policy = policy.lower()\n",
        "  policy = policy.split()\n",
        "  # Separates stems of words in the policies and removes stopwords\n",
        "  ps = PorterStemmer()\n",
        "  policy = [ps.stem(word) for word in policy if not word in set(stopwords.words('english'))]\n",
        "  policy = ' '.join(policy)\n",
        "  return policy\n",
        "# Appends to list of policies\n",
        "for i in data['Policy description']:  \n",
        "  corpus.append(processData(i))\n"
      ],
      "execution_count": null,
      "outputs": []
    },
    {
      "cell_type": "code",
      "metadata": {
        "id": "2EIOEfBXYgX8",
        "colab": {
          "base_uri": "https://localhost:8080/"
        },
        "outputId": "42703e6c-740e-4d22-dc5b-ac543759bfd9"
      },
      "source": [
        "# Salil Kamath\n",
        "# Imports for splitting data\n",
        "from sklearn.feature_extraction.text import CountVectorizer\n",
        "\n",
        "# Bag of Words model with 1500 words\n",
        "cv = CountVectorizer(max_features = 1500)\n",
        "# Sets X and Y to the processed policies and categories respectively\n",
        "X = cv.fit_transform(corpus).toarray()\n",
        "Y = data['Policy category'].values\n",
        "# Splits data into train/test\n",
        "X_train, X_test, Y_train, Y_test = train_test_split(X, Y, test_size = 0.2, random_state = 0)\n",
        "\n",
        "# Random forest classifier to train\n",
        "rfclf = RandomForestClassifier(n_estimators = 200, criterion = 'gini', random_state = 0)\n",
        "rfclf.fit(X_train, Y_train)\n"
      ],
      "execution_count": null,
      "outputs": [
        {
          "output_type": "execute_result",
          "data": {
            "text/plain": [
              "RandomForestClassifier(bootstrap=True, ccp_alpha=0.0, class_weight=None,\n",
              "                       criterion='gini', max_depth=None, max_features='auto',\n",
              "                       max_leaf_nodes=None, max_samples=None,\n",
              "                       min_impurity_decrease=0.0, min_impurity_split=None,\n",
              "                       min_samples_leaf=1, min_samples_split=2,\n",
              "                       min_weight_fraction_leaf=0.0, n_estimators=200,\n",
              "                       n_jobs=None, oob_score=False, random_state=0, verbose=0,\n",
              "                       warm_start=False)"
            ]
          },
          "metadata": {
            "tags": []
          },
          "execution_count": 10
        }
      ]
    },
    {
      "cell_type": "code",
      "metadata": {
        "id": "u_xX90aZU4fz",
        "colab": {
          "base_uri": "https://localhost:8080/"
        },
        "outputId": "39259ac7-d855-4153-aecb-e8ad8a025156"
      },
      "source": [
        "# Salil Kamath\n",
        "# Predictions for test results\n",
        "Y_pred_RF = rfclf.predict(X_test)\n",
        "print(Y_pred_RF)\n",
        "# Prints training scores using 5 fold cross validation\n",
        "# rfclf_scores = cross_val_score(rfclf, X_train, Y_train, cv=5, scoring='f1_micro')\n",
        "# print(rfclf_scores)\n",
        "# print(\"Train Accuracy: %0.2f (+/- %0.2f)\" % (rfclf_scores.mean(), rfclf_scores.std() * 2))\n",
        "\n",
        "# Prints training scores using 5 fold cross validation\n",
        "# rfclf_scores = cross_val_score(rfclf, X_test, Y_test, cv=5, scoring='f1_micro')\n",
        "# print(rfclf_scores)\n",
        "# print(\"Test Accuracy: %0.2f (+/- %0.2f)\" % (rfclf_scores.mean(), rfclf_scores.std() * 2))\n",
        "\n",
        "# Prints Confusion Matrix\n",
        "cm_RF = confusion_matrix(Y_test, Y_pred_RF)\n",
        "print(cm_RF)\n"
      ],
      "execution_count": null,
      "outputs": [
        {
          "output_type": "stream",
          "text": [
            "['Social distancing' 'Social distancing' 'Social distancing' ...\n",
            " 'Social distancing' 'Emergency declarations' 'Social distancing']\n",
            "[[  47    0    1   23    0   26    7    0]\n",
            " [   0   31    0    2    1   10    4    1]\n",
            " [   0    0  134    4    0    9    0    2]\n",
            " [   0    1    4  379    0   81   11    2]\n",
            " [   0    0    2    3    3    0    1    0]\n",
            " [   1    2    5   18    0 1825    6   10]\n",
            " [   1    1    2   26    0   65  203    1]\n",
            " [   0    0    2    1    0   30    1  100]]\n"
          ],
          "name": "stdout"
        }
      ]
    },
    {
      "cell_type": "code",
      "metadata": {
        "id": "IwS-fU_4OD9f",
        "colab": {
          "base_uri": "https://localhost:8080/",
          "height": 485
        },
        "outputId": "98fbf5cd-c968-493b-845e-ff1629465e8d"
      },
      "source": [
        "from collections import Counter\n",
        "def plot_classifcation_results(prediction):\n",
        "    fig, ax = plt.subplots(1, 1)\n",
        "    c = Counter(prediction)\n",
        "\n",
        "    ax.bar(c.keys(), c.values())\n",
        "    for tick in ax.get_xticklabels():\n",
        "        tick.set_rotation(90)\n",
        "    plt.show()\n",
        "\n",
        "plot_classifcation_results(Y_pred_RF)"
      ],
      "execution_count": null,
      "outputs": [
        {
          "output_type": "display_data",
          "data": {
            "image/png": "[encoded data removed]",
            "text/plain": [
              "<Figure size 432x288 with 1 Axes>"
            ]
          },
          "metadata": {
            "tags": [],
            "needs_background": "light"
          }
        }
      ]
    },
    {
      "cell_type": "code",
      "metadata": {
        "id": "O8MXcLp2HOGN"
      },
      "source": [
        "# def demo(classifier, input):\n",
        "#     cv = CountVectorizer(max_features = 40)\n",
        "#     input = processData([input])\n",
        "#     input = cv.fit_transform(input).toarray()\n",
        "#     result = classifier.predict(input)\n",
        "#     print(\"The predicted category of the policy is\", result)\n",
        "\n",
        "# policy = input()\n",
        "# demo(rfclf, policy)"
      ],
      "execution_count": null,
      "outputs": []
    },
    {
      "cell_type": "markdown",
      "metadata": {
        "id": "M7DpgQFYavmC"
      },
      "source": [
        "More classification models to try:\n",
        "*   Logistic Regression\n",
        "*   (Multinomial) Naive Bayes\n",
        "*   Linear Support Vector Machine\n",
        "*   Random Forest"
      ]
    },
    {
      "cell_type": "markdown",
      "metadata": {
        "id": "4OnU3uNWwM3y"
      },
      "source": [
        "Tutorials and other useful links:\n",
        "\n",
        "https://towardsdatascience.com/seven-clean-steps-to-reshape-your-data-with-pandas-or-how-i-use-python-where-excel-fails-62061f86ef9c \n",
        "\n",
        "https://towardsdatascience.com/google-colab-import-and-export-datasets-eccf801e2971 \n",
        "\n",
        "https://machinelearningmastery.com/how-to-prepare-data-for-machine-learning/\n",
        "\n",
        "https://www.tensorflow.org/hub/tutorials/tf2_text_classification\n",
        "\n",
        "https://covidamp.org/data?type=policy"
      ]
    }
  ]
}